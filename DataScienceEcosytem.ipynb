{
 "cells": [
  {
   "cell_type": "markdown",
   "id": "646e2654-c617-436c-9fe4-339581366f7f",
   "metadata": {},
   "source": [
    "# Data Science Tools and Ecosystem"
   ]
  },
  {
   "cell_type": "markdown",
   "id": "6d6a1b3c-abd7-47b3-8aee-6add586d5868",
   "metadata": {},
   "source": [
    "### In this notebook, Data Science Tools and Ecosystem are summarized."
   ]
  },
  {
   "cell_type": "markdown",
   "id": "862ca6c2-5956-4459-bb4b-e7f1aad098bb",
   "metadata": {},
   "source": [
    "### **Objectives:**\n",
    "- List popular languages for Data Science\n",
    "- List commonly used libraries in Daata science\n",
    "- List common libraries used in data Science"
   ]
  },
  {
   "cell_type": "markdown",
   "id": "c660e6d4-5675-47ce-a65d-2874041f0fd5",
   "metadata": {},
   "source": [
    "#### Some of the popular languages that Data Scientists use are:"
   ]
  },
  {
   "cell_type": "markdown",
   "id": "d1b5cd20-5b2f-4e87-a94f-2c60226b7c6c",
   "metadata": {},
   "source": [
    "1. Python\n",
    "2. R\n",
    "3. SQL\n",
    "4. Scala\n",
    "5. Java\n",
    "6. C++"
   ]
  },
  {
   "cell_type": "markdown",
   "id": "9e45d445-92eb-4ad6-b8f3-f8b8a7f0bc4b",
   "metadata": {},
   "source": [
    "#### Some of the commonly used libraries used by Data Scientists include:"
   ]
  },
  {
   "cell_type": "markdown",
   "id": "977fd852-2137-4c7e-a93e-aa24ba3f4797",
   "metadata": {},
   "source": [
    "1. Pandas\n",
    "2. Numpy\n",
    "3. Myplot\n",
    "4. Seaborn"
   ]
  },
  {
   "cell_type": "markdown",
   "id": "fb9ac072-f014-433e-8b0d-2e58e6ca9620",
   "metadata": {},
   "source": [
    "|Data Science Tools|\n",
    "--------------------\n",
    "|1. JupyterNotebook |\n",
    "|2. Jupyterlite|\n",
    "|3. GoogleColab|\n",
    "|4. RStudio|"
   ]
  },
  {
   "cell_type": "markdown",
   "id": "d529e045-7e2d-47a9-8571-291e89784e23",
   "metadata": {},
   "source": [
    "### Below are a few examples of evaluating arithmetic expressions in Python"
   ]
  },
  {
   "cell_type": "markdown",
   "id": "ac50ff57-985f-4f42-b260-e7403595d35d",
   "metadata": {},
   "source": [
    "1. 1+2\n",
    "2. 2*3\n",
    "3. 2+4"
   ]
  },
  {
   "cell_type": "code",
   "execution_count": 2,
   "id": "2b2b97ce-4991-4df4-9edd-63211c181e94",
   "metadata": {},
   "outputs": [],
   "source": [
    "# This a simple arithmetic expression to mutiply then add integers."
   ]
  },
  {
   "cell_type": "code",
   "execution_count": 3,
   "id": "eaf51fb3-f47b-4b4d-863d-a40592abb1fe",
   "metadata": {},
   "outputs": [
    {
     "data": {
      "text/plain": [
       "17"
      ]
     },
     "execution_count": 3,
     "metadata": {},
     "output_type": "execute_result"
    }
   ],
   "source": [
    "(3*4)+5"
   ]
  },
  {
   "cell_type": "code",
   "execution_count": 4,
   "id": "44e4fe12-ddac-4276-9aa3-04c607adaf88",
   "metadata": {},
   "outputs": [],
   "source": [
    "# This will convert 200 minutes to hours by diving by 60."
   ]
  },
  {
   "cell_type": "code",
   "execution_count": 6,
   "id": "9288d5f4-7bb0-421d-8724-112d44be57be",
   "metadata": {},
   "outputs": [
    {
     "data": {
      "text/plain": [
       "3"
      ]
     },
     "execution_count": 6,
     "metadata": {},
     "output_type": "execute_result"
    }
   ],
   "source": [
    "200//60"
   ]
  },
  {
   "cell_type": "markdown",
   "id": "51f17630-f025-4ccd-84fc-dbbe18a1fb0d",
   "metadata": {},
   "source": [
    "## Author"
   ]
  },
  {
   "cell_type": "markdown",
   "id": "6e4843ad-4f5a-484e-a44d-d787e119305f",
   "metadata": {},
   "source": [
    "Nneji Chinyere Esther"
   ]
  }
 ],
 "metadata": {
  "kernelspec": {
   "display_name": "Python 3 (ipykernel)",
   "language": "python",
   "name": "python3"
  },
  "language_info": {
   "codemirror_mode": {
    "name": "ipython",
    "version": 3
   },
   "file_extension": ".py",
   "mimetype": "text/x-python",
   "name": "python",
   "nbconvert_exporter": "python",
   "pygments_lexer": "ipython3",
   "version": "3.11.7"
  }
 },
 "nbformat": 4,
 "nbformat_minor": 5
}
